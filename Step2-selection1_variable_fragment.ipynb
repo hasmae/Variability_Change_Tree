{
 "cells": [
  {
   "cell_type": "code",
   "execution_count": 1,
   "metadata": {},
   "outputs": [
    {
     "name": "stdout",
     "output_type": "stream",
     "text": [
      "Found matching changes:\n",
      "{'id': '49', 'date': '2019-01-07T02:03:01.012345', 'trace': '5507', 'pv': '2', 'fragement_id': '687', 'change_type': 'frag_change_Previous', 'new_element': 'newnext'}\n",
      "{'id': '50', 'date': '2019-01-07T20:03:01.012345', 'trace': '5509', 'pv': '2', 'fragement_id': '699', 'change_type': 'frag_change_Previous', 'new_element': 'newnext'}\n",
      "{'id': '51', 'date': '2019-01-08T05:03:01.012345', 'trace': '5510', 'pv': '2', 'fragement_id': '705', 'change_type': 'frag_change_Previous', 'new_element': 'newnext'}\n",
      "{'id': '52', 'date': '2019-01-08T14:03:01.012345', 'trace': '5511', 'pv': '2', 'fragement_id': '711', 'change_type': 'frag_change_Previous', 'new_element': 'newnext'}\n",
      "{'id': '53', 'date': '2019-01-08T23:03:01.012345', 'trace': '5512', 'pv': '2', 'fragement_id': '717', 'change_type': 'frag_change_Previous', 'new_element': 'newnext'}\n",
      "{'id': '54', 'date': '2019-01-09T06:03:01.012345', 'trace': '5513', 'pv': '2', 'fragement_id': '722', 'change_type': 'frag_change_Next', 'new_element': 'newnext'}\n",
      "{'id': '55', 'date': '2019-01-09T15:03:01.012345', 'trace': '5514', 'pv': '2', 'fragement_id': '729', 'change_type': 'frag_change_Next', 'new_element': 'newnext'}\n",
      "{'id': '56', 'date': '2019-01-10T09:03:01.012345', 'trace': '5516', 'pv': '2', 'fragement_id': '742', 'change_type': 'frag_change_Next', 'new_element': 'newnext'}\n",
      "{'id': '57', 'date': '2019-01-11T14:03:01.012345', 'trace': '5519', 'pv': '2', 'fragement_id': '762', 'change_type': 'frag_change_Previous', 'new_element': 'newnext'}\n",
      "{'id': '58', 'date': '2019-01-12T08:03:01.012345', 'trace': '5521', 'pv': '2', 'fragement_id': '774', 'change_type': 'frag_change_Previous', 'new_element': 'newnext'}\n",
      "{'id': '59', 'date': '2019-01-13T18:03:01.012345', 'trace': '5525', 'pv': '2', 'fragement_id': '797', 'change_type': 'frag_change_Next', 'new_element': 'newnext'}\n",
      "{'id': '60', 'date': '2019-01-14T12:03:01.012345', 'trace': '5527', 'pv': '2', 'fragement_id': '810', 'change_type': 'frag_change_Next', 'new_element': 'newnext'}\n",
      "{'id': '61', 'date': '2019-01-14T21:03:01.012345', 'trace': '5528', 'pv': '2', 'fragement_id': '817', 'change_type': 'frag_change_Next', 'new_element': 'newnext'}\n",
      "{'id': '62', 'date': '2019-01-15T17:03:01.012345', 'trace': '5530', 'pv': '2', 'fragement_id': '831', 'change_type': 'frag_change_Previous', 'new_element': 'newnext'}\n",
      "{'id': '63', 'date': '2019-01-16T02:03:01.012345', 'trace': '5531', 'pv': '2', 'fragement_id': '837', 'change_type': 'frag_change_Previous', 'new_element': 'newnext'}\n",
      "{'id': '64', 'date': '2019-01-16T09:03:01.012345', 'trace': '5532', 'pv': '2', 'fragement_id': '842', 'change_type': 'frag_change_Next', 'new_element': 'newnext'}\n",
      "{'id': '65', 'date': '2019-01-16T18:03:01.012345', 'trace': '5533', 'pv': '2', 'fragement_id': '849', 'change_type': 'frag_change_Next', 'new_element': 'newnext'}\n",
      "{'id': '66', 'date': '2019-01-18T08:03:01.012345', 'trace': '5537', 'pv': '2', 'fragement_id': '875', 'change_type': 'frag_change_Previous', 'new_element': 'newnext'}\n",
      "{'id': '67', 'date': '2019-01-18T15:03:01.012345', 'trace': '5538', 'pv': '2', 'fragement_id': '880', 'change_type': 'frag_change_Next', 'new_element': 'newnext'}\n",
      "{'id': '68', 'date': '2019-01-20T05:03:01.012345', 'trace': '5542', 'pv': '2', 'fragement_id': '906', 'change_type': 'frag_change_Previous', 'new_element': 'newnext'}\n",
      "{'id': '69', 'date': '2019-01-20T12:03:01.012345', 'trace': '5543', 'pv': '2', 'fragement_id': '911', 'change_type': 'frag_change_Next', 'new_element': 'newnext'}\n",
      "{'id': '70', 'date': '2019-01-20T21:03:01.012345', 'trace': '5544', 'pv': '2', 'fragement_id': '918', 'change_type': 'frag_change_Next', 'new_element': 'newnext'}\n",
      "{'id': '71', 'date': '2019-01-21T17:03:01.012345', 'trace': '5546', 'pv': '2', 'fragement_id': '932', 'change_type': 'frag_change_Previous', 'new_element': 'newnext'}\n"
     ]
    }
   ],
   "source": [
    "import xml.etree.ElementTree as ET\n",
    "\n",
    "def find_corresponding_changes(xml_file, research_element):\n",
    "    \"\"\"\n",
    "    Finds all `<change>` elements in an XML file where `<old_element>` matches a given research element.\n",
    "\n",
    "    Args:\n",
    "        xml_file (str): Path to the XML file.\n",
    "        research_element (str): The `<old_element>` value to search for.\n",
    "\n",
    "    Returns:\n",
    "        list: A list of dictionaries, where each dictionary represents a matching `<change>` element\n",
    "              with its key-value pairs extracted.\n",
    "    \"\"\"\n",
    "\n",
    "    tree = ET.parse(xml_file)\n",
    "    root = tree.getroot()\n",
    "\n",
    "    matching_changes = []\n",
    "    for change_element in root.findall(\".//change\"):\n",
    "        old_element = change_element.find(\"old_element\")\n",
    "        if old_element is not None and old_element.text == research_element:\n",
    "            change_data = {\n",
    "                \"id\": change_element.find(\"id\").text,\n",
    "                \"date\": change_element.find(\"date\").text,\n",
    "                \"trace\": change_element.find(\"trace\").text,\n",
    "                \"pv\": change_element.find(\"pv\").text,\n",
    "                \"fragement_id\": change_element.find(\"fragement_id\").text,\n",
    "                \"change_type\": change_element.find(\"change_type\").text,\n",
    "                \"new_element\": change_element.find(\"new_element\").text,\n",
    "            }\n",
    "            matching_changes.append(change_data)\n",
    "\n",
    "    return matching_changes\n",
    "\n",
    "\n",
    "# Example usage\n",
    "xml_file = \"ChangeLog.xml\"\n",
    "research_element = \"D1\"  # The `<old_element>` value to search for\n",
    "\n",
    "matching_changes = find_corresponding_changes(xml_file, research_element)\n",
    "\n",
    "if matching_changes:\n",
    "    print(\"Found matching changes:\")\n",
    "    for change_data in matching_changes:\n",
    "        print(change_data)\n",
    "else:\n",
    "    print(\"No matching changes found.\")"
   ]
  }
 ],
 "metadata": {
  "kernelspec": {
   "display_name": "Python 3",
   "language": "python",
   "name": "python3"
  },
  "language_info": {
   "codemirror_mode": {
    "name": "ipython",
    "version": 3
   },
   "file_extension": ".py",
   "mimetype": "text/x-python",
   "name": "python",
   "nbconvert_exporter": "python",
   "pygments_lexer": "ipython3",
   "version": "3.8.3"
  }
 },
 "nbformat": 4,
 "nbformat_minor": 5
}
