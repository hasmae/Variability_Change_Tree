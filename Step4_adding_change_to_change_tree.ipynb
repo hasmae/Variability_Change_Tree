{
 "cells": [
  {
   "cell_type": "code",
   "execution_count": 1,
   "metadata": {},
   "outputs": [
    {
     "name": "stdout",
     "output_type": "stream",
     "text": [
      "Organigramme created as 'Variability_change_tree.png'\n"
     ]
    }
   ],
   "source": [
    "import graphviz\n",
    "\n",
    "def create_organigramme(data):\n",
    "  \"\"\"\n",
    "  Creates an organigramme using Graphviz based on provided data.\n",
    "\n",
    "  Args:\n",
    "      data: A dictionary representing the hierarchy. Keys are parent nodes,\n",
    "            values are lists of child nodes.\n",
    "  \"\"\"\n",
    "  dot = graphviz.Digraph(comment='Organization Chart')\n",
    "\n",
    "  # Add nodes and edges\n",
    "  for parent, children in data.items():\n",
    "    dot.node(parent, parent)  # Add parent node\n",
    "    for child in children:\n",
    "      dot.edge(parent, child)  # Add edge from parent to child\n",
    "\n",
    "  # Customize layout and styling (optional)\n",
    "  dot.graph_attr['rankdir'] = 'TB'  # Top-to-bottom layout\n",
    "  dot.edge_attr['arrowsize'] = '0.6'  # Adjust arrow size\n",
    "\n",
    "  # Render the chart\n",
    "  dot.render('Variability_change_tree.png', format='png')\n",
    "\n",
    "# Example data\n",
    "org_data = {\n",
    "    \"Configurable business process\": [\"VF1\", \"VF2\",\"VF3\"],\n",
    "    \"VF1\": [\"V1\", \"VP1\",\"S1\",],\n",
    "    \"V1\":[\"B1\",\"B2\", \"B3\"],\n",
    "    \"VP1\":[\"A1\",\"A2\"],\n",
    "    \"S1\":[\"H1\"],\n",
    "    \n",
    "     \"VF2\": [\"S2\", \"VP2\"],\n",
    "      \"S2\":[\"H1\"],\n",
    "     \"VP2\":[\"I1\",\"I2\", \"I3\"],\n",
    "    \n",
    "    \n",
    "    \"VF3\": [\"V3\", \"VP3\"],\n",
    "    \"V3\":[\"A1\",\"A2\"],\n",
    "    \"VP3\":[\"B1\",\"B2\", \"B3\"],\n",
    "    \n",
    "    \"A1\":[\"W(11)\"],\n",
    "    \"W(11)\":[\"Z(5)\"],\n",
    "    \"Z(5)\":[\"M(2)\"],\n",
    "    \"M(2)\":[\"C\"],\n",
    "    \"C\":[\"Z(2)\"],\n",
    "    \n",
    "     \"H1\":[\"C(12)\"],\n",
    "    \"C(12)\":[\"R(8)\"],\n",
    "    \"R(8)\":[\"C(10)\"],\n",
    "    \n",
    "    \n",
    "     \"B2\":[\"L(2)\"],\n",
    "  \n",
    "\n",
    "   \"I3\":[\"N(6)\"],\n",
    "    \"N(6)\":[\"F(6)\"],\n",
    "  \n",
    "    \n",
    "    \n",
    "\n",
    "    \n",
    "    }\n",
    "    \n",
    "    \n",
    "\n",
    "# Create the organigramme\n",
    "create_organigramme(org_data)\n",
    "\n",
    "print(\"Organigramme created as 'Variability_change_tree.png'\")"
   ]
  },
  {
   "cell_type": "code",
   "execution_count": null,
   "metadata": {},
   "outputs": [],
   "source": []
  }
 ],
 "metadata": {
  "kernelspec": {
   "display_name": "Python 3",
   "language": "python",
   "name": "python3"
  },
  "language_info": {
   "codemirror_mode": {
    "name": "ipython",
    "version": 3
   },
   "file_extension": ".py",
   "mimetype": "text/x-python",
   "name": "python",
   "nbconvert_exporter": "python",
   "pygments_lexer": "ipython3",
   "version": "3.8.3"
  }
 },
 "nbformat": 4,
 "nbformat_minor": 4
}
